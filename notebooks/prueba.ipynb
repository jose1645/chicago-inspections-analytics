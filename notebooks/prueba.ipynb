{
 "cells": [
  {
   "cell_type": "code",
   "execution_count": 3,
   "metadata": {},
   "outputs": [],
   "source": [
    "import os\n",
    "import pandas as pd\n",
    "import boto3\n",
    "import pickle\n",
    "from dotenv import load_dotenv\n"
   ]
  },
  {
   "cell_type": "code",
   "execution_count": 4,
   "metadata": {},
   "outputs": [
    {
     "name": "stdout",
     "output_type": "stream",
     "text": [
      "Ingesta inicial cargada exitosamente.\n",
      "Fecha más reciente en el DataFrame: 2023-02-14 00:00:00\n"
     ]
    }
   ],
   "source": [
    "# Configurar la conexión con S3 usando variables de entorno\n",
    "load_dotenv()\n",
    "s3_client = boto3.client(\n",
    "    's3',\n",
    "    aws_access_key_id=os.getenv('Access_key_ID'),\n",
    "    aws_secret_access_key=os.getenv('Secret_access_key')\n",
    ")\n",
    "\n",
    "bucket_name = 'chicago-inspections-analytics'\n",
    "ingesta_inicial_key = 'datos_limpios/datos_limpios/datos_limpios_2024-12-05_fdf9135c835ff76c85385884171e2f68.pkl'  # Ruta del archivo en S3\n",
    "\n",
    "# Función para cargar el archivo de ingesta inicial desde S3\n",
    "def cargar_ingesta_inicial():\n",
    "    try:\n",
    "        # Descargar el archivo de S3\n",
    "        file_obj = s3_client.get_object(Bucket=bucket_name, Key=ingesta_inicial_key)\n",
    "        file_data = file_obj['Body'].read()\n",
    "        \n",
    "        # Convertir el archivo de Pickle a un DataFrame\n",
    "        df = pickle.loads(file_data)\n",
    "        print(\"Ingesta inicial cargada exitosamente.\")\n",
    "        return df\n",
    "    except Exception as e:\n",
    "        print(\"Error al cargar la ingesta inicial desde S3:\", e)\n",
    "        return None\n",
    "\n",
    "# Cargar el DataFrame de ingesta inicial\n",
    "df_inicial = cargar_ingesta_inicial()\n",
    "\n",
    "# Obtener la fecha más reciente\n",
    "if df_inicial is not None:\n",
    "    # Asegurarse de que la columna de fecha esté en el formato datetime\n",
    "    df_inicial['inspection_date'] = pd.to_datetime(df_inicial['inspection_date'], errors='coerce')\n",
    "\n",
    "    # Obtener la fecha más reciente\n",
    "    fecha_mas_reciente = df_inicial['inspection_date'].max()\n",
    "    print(\"Fecha más reciente en el DataFrame:\", fecha_mas_reciente)\n",
    "else:\n",
    "    print(\"No se pudo cargar el DataFrame de ingesta inicial.\")"
   ]
  },
  {
   "cell_type": "code",
   "execution_count": 7,
   "metadata": {},
   "outputs": [
    {
     "name": "stdout",
     "output_type": "stream",
     "text": [
      "inspection_id        0\n",
      "dba_name             0\n",
      "aka_name             5\n",
      "license_             0\n",
      "facility_type        3\n",
      "risk                 0\n",
      "address              0\n",
      "city                 0\n",
      "state                0\n",
      "zip                  0\n",
      "inspection_date      0\n",
      "inspection_type      0\n",
      "results              0\n",
      "latitude             2\n",
      "longitude            2\n",
      "violations         309\n",
      "dtype: int64\n"
     ]
    }
   ],
   "source": [
    "print(df_inicial.isna().sum())  # Verifica valores nulos\n"
   ]
  }
 ],
 "metadata": {
  "kernelspec": {
   "display_name": "Python 3",
   "language": "python",
   "name": "python3"
  },
  "language_info": {
   "codemirror_mode": {
    "name": "ipython",
    "version": 3
   },
   "file_extension": ".py",
   "mimetype": "text/x-python",
   "name": "python",
   "nbconvert_exporter": "python",
   "pygments_lexer": "ipython3",
   "version": "3.12.6"
  }
 },
 "nbformat": 4,
 "nbformat_minor": 2
}
