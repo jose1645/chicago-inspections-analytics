{
 "cells": [
  {
   "cell_type": "code",
   "execution_count": 3,
   "metadata": {},
   "outputs": [
    {
     "name": "stdout",
     "output_type": "stream",
     "text": [
      "Defaulting to user installation because normal site-packages is not writeable\n",
      "Requirement already satisfied: opcua in c:\\users\\pc\\appdata\\roaming\\python\\python312\\site-packages (0.98.13)\n",
      "Collecting cryptography\n",
      "  Downloading cryptography-43.0.3-cp39-abi3-win_amd64.whl.metadata (5.4 kB)\n",
      "Requirement already satisfied: lxml in c:\\users\\pc\\appdata\\roaming\\python\\python312\\site-packages (from opcua) (5.3.0)\n",
      "Requirement already satisfied: python-dateutil in c:\\users\\pc\\appdata\\roaming\\python\\python312\\site-packages (from opcua) (2.9.0.post0)\n",
      "Requirement already satisfied: pytz in c:\\users\\pc\\appdata\\roaming\\python\\python312\\site-packages (from opcua) (2024.2)\n",
      "Collecting cffi>=1.12 (from cryptography)\n",
      "  Downloading cffi-1.17.1-cp312-cp312-win_amd64.whl.metadata (1.6 kB)\n",
      "Collecting pycparser (from cffi>=1.12->cryptography)\n",
      "  Downloading pycparser-2.22-py3-none-any.whl.metadata (943 bytes)\n",
      "Requirement already satisfied: six>=1.5 in c:\\users\\pc\\appdata\\roaming\\python\\python312\\site-packages (from python-dateutil->opcua) (1.16.0)\n",
      "Downloading cryptography-43.0.3-cp39-abi3-win_amd64.whl (3.1 MB)\n",
      "   ---------------------------------------- 0.0/3.1 MB ? eta -:--:--\n",
      "   ---------------------------------------- 0.0/3.1 MB ? eta -:--:--\n",
      "   ------ --------------------------------- 0.5/3.1 MB 2.1 MB/s eta 0:00:02\n",
      "   ------------- -------------------------- 1.0/3.1 MB 2.2 MB/s eta 0:00:01\n",
      "   -------------------- ------------------- 1.6/3.1 MB 2.2 MB/s eta 0:00:01\n",
      "   ----------------------- ---------------- 1.8/3.1 MB 2.1 MB/s eta 0:00:01\n",
      "   ------------------------------ --------- 2.4/3.1 MB 2.1 MB/s eta 0:00:01\n",
      "   ------------------------------------- -- 2.9/3.1 MB 2.2 MB/s eta 0:00:01\n",
      "   ---------------------------------------- 3.1/3.1 MB 2.2 MB/s eta 0:00:00\n",
      "Downloading cffi-1.17.1-cp312-cp312-win_amd64.whl (181 kB)\n",
      "Downloading pycparser-2.22-py3-none-any.whl (117 kB)\n",
      "Installing collected packages: pycparser, cffi, cryptography\n",
      "Successfully installed cffi-1.17.1 cryptography-43.0.3 pycparser-2.22\n"
     ]
    },
    {
     "name": "stderr",
     "output_type": "stream",
     "text": [
      "\n",
      "[notice] A new release of pip is available: 24.2 -> 24.3.1\n",
      "[notice] To update, run: python.exe -m pip install --upgrade pip\n"
     ]
    }
   ],
   "source": [
    "!pip install opcua cryptography"
   ]
  },
  {
   "cell_type": "code",
   "execution_count": 26,
   "metadata": {},
   "outputs": [
    {
     "name": "stderr",
     "output_type": "stream",
     "text": [
      "Requested session timeout to be 3600000ms, got 120000ms instead\n"
     ]
    },
    {
     "name": "stdout",
     "output_type": "stream",
     "text": [
      "Intentando conectar al servidor OPC UA en opc.tcp://169.254.158.207:4840\n",
      "Conectado al servidor OPC UA.\n",
      "Error al conectar o leer datos: \"The node id refers to a node that does not exist in the server address space.\"(BadNodeIdUnknown)\n",
      "Desconectado del servidor OPC UA.\n"
     ]
    }
   ],
   "source": [
    "from opcua import Client\n",
    "\n",
    "# Configuración del servidor OPC UA\n",
    "OPC_SERVER_URL = \"opc.tcp://169.254.158.207:4840\"  # Cambia a la dirección de tu HMI\n",
    "\n",
    "# Inicializar el cliente OPC UA\n",
    "client = Client(OPC_SERVER_URL)\n",
    "    \n",
    "try:\n",
    "        # Conectar al servidor\n",
    "        print(f\"Intentando conectar al servidor OPC UA en {OPC_SERVER_URL}\")\n",
    "        client.connect()\n",
    "        print(\"Conectado al servidor OPC UA.\")\n",
    "\n",
    "        # Definir y leer nodos\n",
    "        temperatura_node = client.get_node(\"ns=1;s=HMI_DataProvider/Tag1\")  # Cambia según tu configuración\n",
    "\n",
    "        # Leer el valor del nodo\n",
    "        temperatura = temperatura_node.get_value()\n",
    "        print(f\"Temperatura leída: {temperatura} °C\")\n",
    "    \n",
    "except Exception as e:\n",
    "        print(f\"Error al conectar o leer datos: {e}\")\n",
    "    \n",
    "finally:\n",
    "        # Intentar desconectar, incluso si ocurre un error\n",
    "        try:\n",
    "            client.disconnect()\n",
    "            print(\"Desconectado del servidor OPC UA.\")\n",
    "        except Exception as disconnect_error:\n",
    "            print(f\"Error al desconectar: {disconnect_error}\")\n"
   ]
  },
  {
   "cell_type": "code",
   "execution_count": 34,
   "metadata": {},
   "outputs": [
    {
     "name": "stderr",
     "output_type": "stream",
     "text": [
      "Requested session timeout to be 3600000ms, got 120000ms instead\n"
     ]
    },
    {
     "name": "stdout",
     "output_type": "stream",
     "text": [
      "Conectando al servidor OPC UA en opc.tcp://169.254.158.207:4840\n",
      "Conectado al servidor OPC UA.\n",
      "Nodo raíz: i=84\n",
      "Explorando nodos disponibles:\n",
      "Nodo hijo: i=85, Nombre: QualifiedName(0:Objects), Tipo: 1\n",
      "Nodo hijo: i=86, Nombre: QualifiedName(0:Types), Tipo: 1\n",
      "Nodo hijo: i=87, Nombre: QualifiedName(0:Views), Tipo: 1\n",
      "Desconectado del servidor OPC UA.\n"
     ]
    }
   ],
   "source": [
    "from opcua import Client\n",
    "\n",
    "# Configuración del servidor OPC UA\n",
    "OPC_SERVER_URL = \"opc.tcp://169.254.158.207:4840\"\n",
    "\n",
    "client = Client(OPC_SERVER_URL)\n",
    "    \n",
    "try:\n",
    "        # Conectar al servidor\n",
    "        print(f\"Conectando al servidor OPC UA en {OPC_SERVER_URL}\")\n",
    "        client.connect()\n",
    "        print(\"Conectado al servidor OPC UA.\")\n",
    "\n",
    "        # Obtener el nodo raíz\n",
    "        root_node = client.get_root_node()\n",
    "        print(f\"Nodo raíz: {root_node}\")\n",
    "\n",
    "        # Listar los nodos hijos del nodo raíz\n",
    "        print(\"Explorando nodos disponibles:\")\n",
    "        for child in root_node.get_children():\n",
    "            print(f\"Nodo hijo: {child}, Nombre: {child.get_browse_name()}, Tipo: {child.get_node_class()}\")\n",
    "\n",
    "except Exception as e:\n",
    "        print(f\"Error al explorar nodos: {e}\")\n",
    "    \n",
    "finally:\n",
    "        # Desconectar del servidor\n",
    "        try:\n",
    "            client.disconnect()\n",
    "            print(\"Desconectado del servidor OPC UA.\")\n",
    "        except Exception as disconnect_error:\n",
    "            print(f\"Error al desconectar: {disconnect_error}\")\n"
   ]
  },
  {
   "cell_type": "code",
   "execution_count": null,
   "metadata": {},
   "outputs": [],
   "source": []
  },
  {
   "cell_type": "code",
   "execution_count": 35,
   "metadata": {},
   "outputs": [
    {
     "name": "stderr",
     "output_type": "stream",
     "text": [
      "Requested session timeout to be 3600000ms, got 120000ms instead\n"
     ]
    },
    {
     "name": "stdout",
     "output_type": "stream",
     "text": [
      "Conectando al servidor OPC UA en opc.tcp://169.254.158.207:4840\n",
      "Conectado al servidor OPC UA.\n",
      "Nodo raíz: i=84\n",
      "Nodo 'Objects': i=85\n",
      "Explorando nodos dentro de 'Objects':\n",
      "Nodo hijo: i=2253, Nombre: QualifiedName(0:Server), Tipo: 1\n",
      "Nodo hijo: ns=1;s=/HMI_DataProvider, Nombre: QualifiedName(1:HMI_DataProvider), Tipo: 1\n",
      "Desconectado del servidor OPC UA.\n"
     ]
    }
   ],
   "source": [
    "from opcua import Client\n",
    "\n",
    "# Configuración del servidor OPC UA\n",
    "OPC_SERVER_URL = \"opc.tcp://169.254.158.207:4840\"\n",
    "\n",
    "client = Client(OPC_SERVER_URL)\n",
    "\n",
    "try:\n",
    "    # Conectar al servidor\n",
    "    print(f\"Conectando al servidor OPC UA en {OPC_SERVER_URL}\")\n",
    "    client.connect()\n",
    "    print(\"Conectado al servidor OPC UA.\")\n",
    "\n",
    "    # Obtener el nodo raíz\n",
    "    root_node = client.get_root_node()\n",
    "    print(f\"Nodo raíz: {root_node}\")\n",
    "\n",
    "    # Navegar al nodo 'Objects'\n",
    "    objects_node = root_node.get_child(\"0:Objects\")\n",
    "    print(f\"Nodo 'Objects': {objects_node}\")\n",
    "\n",
    "    # Listar nodos dentro de 'Objects'\n",
    "    print(\"Explorando nodos dentro de 'Objects':\")\n",
    "    for child in objects_node.get_children():\n",
    "        print(f\"Nodo hijo: {child}, Nombre: {child.get_browse_name()}, Tipo: {child.get_node_class()}\")\n",
    "\n",
    "except Exception as e:\n",
    "    print(f\"Error al explorar nodos: {e}\")\n",
    "\n",
    "finally:\n",
    "    # Desconectar del servidor\n",
    "    try:\n",
    "        client.disconnect()\n",
    "        print(\"Desconectado del servidor OPC UA.\")\n",
    "    except Exception as disconnect_error:\n",
    "        print(f\"Error al desconectar: {disconnect_error}\")\n"
   ]
  },
  {
   "cell_type": "code",
   "execution_count": 36,
   "metadata": {},
   "outputs": [
    {
     "name": "stderr",
     "output_type": "stream",
     "text": [
      "Requested session timeout to be 3600000ms, got 120000ms instead\n"
     ]
    },
    {
     "name": "stdout",
     "output_type": "stream",
     "text": [
      "Conectando al servidor OPC UA en opc.tcp://169.254.158.207:4840\n",
      "Conectado al servidor OPC UA.\n",
      "Nodo raíz: i=84\n",
      "Nodo 'Objects': i=85\n",
      "Nodo 'HMI_DataProvider': ns=1;s=/HMI_DataProvider\n",
      "Explorando nodos dentro de 'HMI_DataProvider':\n",
      "Nodo hijo: ns=1;s=/HMI_DataProvider/Tag1, Nombre: QualifiedName(1:Tag1), Tipo: 2\n",
      "Desconectado del servidor OPC UA.\n"
     ]
    }
   ],
   "source": [
    "from opcua import Client\n",
    "\n",
    "# Configuración del servidor OPC UA\n",
    "OPC_SERVER_URL = \"opc.tcp://169.254.158.207:4840\"\n",
    "\n",
    "client = Client(OPC_SERVER_URL)\n",
    "\n",
    "try:\n",
    "    # Conectar al servidor\n",
    "    print(f\"Conectando al servidor OPC UA en {OPC_SERVER_URL}\")\n",
    "    client.connect()\n",
    "    print(\"Conectado al servidor OPC UA.\")\n",
    "\n",
    "    # Obtener el nodo raíz\n",
    "    root_node = client.get_root_node()\n",
    "    print(f\"Nodo raíz: {root_node}\")\n",
    "\n",
    "    # Navegar al nodo 'Objects'\n",
    "    objects_node = root_node.get_child(\"0:Objects\")\n",
    "    print(f\"Nodo 'Objects': {objects_node}\")\n",
    "\n",
    "    # Navegar al nodo 'HMI_DataProvider'\n",
    "    hmi_node = objects_node.get_child(\"1:HMI_DataProvider\")\n",
    "    print(f\"Nodo 'HMI_DataProvider': {hmi_node}\")\n",
    "\n",
    "    # Listar nodos dentro de 'HMI_DataProvider'\n",
    "    print(\"Explorando nodos dentro de 'HMI_DataProvider':\")\n",
    "    for child in hmi_node.get_children():\n",
    "        print(f\"Nodo hijo: {child}, Nombre: {child.get_browse_name()}, Tipo: {child.get_node_class()}\")\n",
    "\n",
    "except Exception as e:\n",
    "    print(f\"Error al explorar nodos: {e}\")\n",
    "\n",
    "finally:\n",
    "    # Desconectar del servidor\n",
    "    try:\n",
    "        client.disconnect()\n",
    "        print(\"Desconectado del servidor OPC UA.\")\n",
    "    except Exception as disconnect_error:\n",
    "        print(f\"Error al desconectar: {disconnect_error}\")\n"
   ]
  },
  {
   "cell_type": "code",
   "execution_count": 37,
   "metadata": {},
   "outputs": [
    {
     "name": "stderr",
     "output_type": "stream",
     "text": [
      "Requested session timeout to be 3600000ms, got 120000ms instead\n"
     ]
    },
    {
     "name": "stdout",
     "output_type": "stream",
     "text": [
      "Conectando al servidor OPC UA en opc.tcp://169.254.158.207:4840\n",
      "Conectado al servidor OPC UA.\n",
      "Nodo raíz: i=84\n",
      "Nodo 'Objects': i=85\n",
      "Nodo 'HMI_DataProvider': ns=1;s=/HMI_DataProvider\n",
      "Nodo 'Tag1': ns=1;s=/HMI_DataProvider/Tag1\n",
      "Valor de 'Tag1': False\n",
      "Desconectado del servidor OPC UA.\n"
     ]
    }
   ],
   "source": [
    "from opcua import Client\n",
    "\n",
    "# Configuración del servidor OPC UA\n",
    "OPC_SERVER_URL = \"opc.tcp://169.254.158.207:4840\"\n",
    "\n",
    "client = Client(OPC_SERVER_URL)\n",
    "\n",
    "try:\n",
    "    # Conectar al servidor\n",
    "    print(f\"Conectando al servidor OPC UA en {OPC_SERVER_URL}\")\n",
    "    client.connect()\n",
    "    print(\"Conectado al servidor OPC UA.\")\n",
    "\n",
    "    # Obtener el nodo raíz\n",
    "    root_node = client.get_root_node()\n",
    "    print(f\"Nodo raíz: {root_node}\")\n",
    "\n",
    "    # Navegar al nodo 'Objects'\n",
    "    objects_node = root_node.get_child(\"0:Objects\")\n",
    "    print(f\"Nodo 'Objects': {objects_node}\")\n",
    "\n",
    "    # Navegar al nodo 'HMI_DataProvider'\n",
    "    hmi_node = objects_node.get_child(\"1:HMI_DataProvider\")\n",
    "    print(f\"Nodo 'HMI_DataProvider': {hmi_node}\")\n",
    "\n",
    "    # Obtener el nodo 'Tag1'\n",
    "    tag1_node = hmi_node.get_child(\"1:Tag1\")\n",
    "    print(f\"Nodo 'Tag1': {tag1_node}\")\n",
    "\n",
    "    # Leer el valor de 'Tag1'\n",
    "    tag1_value = tag1_node.get_value()\n",
    "    print(f\"Valor de 'Tag1': {tag1_value}\")\n",
    "\n",
    "except Exception as e:\n",
    "    print(f\"Error al conectar o leer datos: {e}\")\n",
    "\n",
    "finally:\n",
    "    # Desconectar del servidor\n",
    "    try:\n",
    "        client.disconnect()\n",
    "        print(\"Desconectado del servidor OPC UA.\")\n",
    "    except Exception as disconnect_error:\n",
    "        print(f\"Error al desconectar: {disconnect_error}\")\n"
   ]
  }
 ],
 "metadata": {
  "kernelspec": {
   "display_name": "Python 3",
   "language": "python",
   "name": "python3"
  },
  "language_info": {
   "codemirror_mode": {
    "name": "ipython",
    "version": 3
   },
   "file_extension": ".py",
   "mimetype": "text/x-python",
   "name": "python",
   "nbconvert_exporter": "python",
   "pygments_lexer": "ipython3",
   "version": "3.12.6"
  }
 },
 "nbformat": 4,
 "nbformat_minor": 2
}
