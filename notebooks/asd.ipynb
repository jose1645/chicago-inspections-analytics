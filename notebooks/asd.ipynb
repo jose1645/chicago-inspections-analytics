{
 "cells": [
  {
   "cell_type": "code",
   "execution_count": 20,
   "metadata": {},
   "outputs": [
    {
     "name": "stdout",
     "output_type": "stream",
     "text": [
      "Primeros 10 Predictions Scores:\n",
      "[0.7553169088229101, 0.836076639493224, 0.7120731479753686, 0.766531184302733, 0.792728237791932, 0.836076639493224, 0.766531184302733, 0.7553169088229101, 0.836076639493224, 0.766531184302733]\n",
      "Contenido del archivo .pkl cargado:\n",
      "<class 'dict'>\n"
     ]
    }
   ],
   "source": [
    "import pickle\n",
    "import boto3\n",
    "import os\n",
    "from dotenv import load_dotenv\n",
    "\n",
    "def inspect_pkl_from_s3(bucket_name, file_name):\n",
    "    # Conectar a S3\n",
    "    load_dotenv()\n",
    "\n",
    "    s3_client = boto3.client(\n",
    "        's3',\n",
    "        aws_access_key_id=os.getenv('NOTEBOOK_ACCESS_KEY'),\n",
    "        aws_secret_access_key=os.getenv('NOTEBOOK_ACCESS_KEY_SECRET')\n",
    "    )\n",
    "    try:\n",
    "        # Obtener el archivo desde S3\n",
    "        response = s3_client.get_object(Bucket=bucket_name, Key=file_name)\n",
    "        file_content = response['Body'].read()\n",
    "\n",
    "        # Cargar el archivo pkl usando pickle\n",
    "        data = pickle.loads(file_content)\n",
    "        \n",
    "        if isinstance(data, dict) and 'predictions_score' in data:\n",
    "            predictions_scores = data['predictions_score']\n",
    "            print(\"Primeros 10 Predictions Scores:\")\n",
    "            print(predictions_scores[:10])  # Imprimir los primeros 10 elementos\n",
    "        else:\n",
    "            print(\"El archivo no contiene la clave 'predictions_scores'.\")\n",
    "        \n",
    "        \n",
    "\n",
    "\n",
    "\n",
    "        # Mostrar información del objeto cargado\n",
    "        print(\"Contenido del archivo .pkl cargado:\")\n",
    "        return data\n",
    "\n",
    "    except Exception as e:\n",
    "        print(f\"Error al cargar el archivo desde S3: {str(e)}\")\n",
    "        return None\n",
    "\n",
    "# Llamar a la función con los detalles del bucket y archivo\n",
    "\n",
    "bucket_name = 'chicago-inspections-analytics'  # Sustituye por el nombre de tu bucket\n",
    "file_name = 'results/predictions_score.pkl'  # Sustituye por el nombre del archivo .pkl\n",
    "\n",
    "data = inspect_pkl_from_s3(bucket_name, file_name)\n",
    "print(type(data))\n",
    "\n"
   ]
  }
 ],
 "metadata": {
  "kernelspec": {
   "display_name": "Python 3",
   "language": "python",
   "name": "python3"
  },
  "language_info": {
   "codemirror_mode": {
    "name": "ipython",
    "version": 3
   },
   "file_extension": ".py",
   "mimetype": "text/x-python",
   "name": "python",
   "nbconvert_exporter": "python",
   "pygments_lexer": "ipython3",
   "version": "3.12.6"
  }
 },
 "nbformat": 4,
 "nbformat_minor": 2
}
