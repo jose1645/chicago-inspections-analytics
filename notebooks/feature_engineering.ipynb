{
 "cells": [
  {
   "cell_type": "code",
   "execution_count": 4,
   "id": "41607abc",
   "metadata": {},
   "outputs": [
    {
     "name": "stdout",
     "output_type": "stream",
     "text": [
      "Requirement already satisfied: plotly in c:\\users\\user\\appdata\\local\\programs\\python\\python313\\lib\\site-packages (5.24.1)\n",
      "Requirement already satisfied: tenacity>=6.2.0 in c:\\users\\user\\appdata\\local\\programs\\python\\python313\\lib\\site-packages (from plotly) (9.0.0)\n",
      "Requirement already satisfied: packaging in c:\\users\\user\\appdata\\roaming\\python\\python313\\site-packages (from plotly) (24.2)\n",
      "Note: you may need to restart the kernel to use updated packages.\n"
     ]
    },
    {
     "name": "stderr",
     "output_type": "stream",
     "text": [
      "\n",
      "[notice] A new release of pip is available: 24.2 -> 24.3.1\n",
      "[notice] To update, run: python.exe -m pip install --upgrade pip\n"
     ]
    },
    {
     "name": "stdout",
     "output_type": "stream",
     "text": [
      "Requirement already satisfied: nbformat in c:\\users\\user\\appdata\\local\\programs\\python\\python313\\lib\\site-packages (5.10.4)\n",
      "Requirement already satisfied: fastjsonschema>=2.15 in c:\\users\\user\\appdata\\local\\programs\\python\\python313\\lib\\site-packages (from nbformat) (2.20.0)\n",
      "Requirement already satisfied: jsonschema>=2.6 in c:\\users\\user\\appdata\\local\\programs\\python\\python313\\lib\\site-packages (from nbformat) (4.23.0)\n",
      "Requirement already satisfied: jupyter-core!=5.0.*,>=4.12 in c:\\users\\user\\appdata\\roaming\\python\\python313\\site-packages (from nbformat) (5.7.2)\n",
      "Requirement already satisfied: traitlets>=5.1 in c:\\users\\user\\appdata\\roaming\\python\\python313\\site-packages (from nbformat) (5.14.3)\n",
      "Requirement already satisfied: attrs>=22.2.0 in c:\\users\\user\\appdata\\local\\programs\\python\\python313\\lib\\site-packages (from jsonschema>=2.6->nbformat) (24.2.0)\n",
      "Requirement already satisfied: jsonschema-specifications>=2023.03.6 in c:\\users\\user\\appdata\\local\\programs\\python\\python313\\lib\\site-packages (from jsonschema>=2.6->nbformat) (2024.10.1)\n",
      "Requirement already satisfied: referencing>=0.28.4 in c:\\users\\user\\appdata\\local\\programs\\python\\python313\\lib\\site-packages (from jsonschema>=2.6->nbformat) (0.35.1)\n",
      "Requirement already satisfied: rpds-py>=0.7.1 in c:\\users\\user\\appdata\\local\\programs\\python\\python313\\lib\\site-packages (from jsonschema>=2.6->nbformat) (0.21.0)\n",
      "Requirement already satisfied: platformdirs>=2.5 in c:\\users\\user\\appdata\\roaming\\python\\python313\\site-packages (from jupyter-core!=5.0.*,>=4.12->nbformat) (4.3.6)\n",
      "Requirement already satisfied: pywin32>=300 in c:\\users\\user\\appdata\\roaming\\python\\python313\\site-packages (from jupyter-core!=5.0.*,>=4.12->nbformat) (308)\n",
      "Note: you may need to restart the kernel to use updated packages.\n"
     ]
    },
    {
     "name": "stderr",
     "output_type": "stream",
     "text": [
      "\n",
      "[notice] A new release of pip is available: 24.2 -> 24.3.1\n",
      "[notice] To update, run: python.exe -m pip install --upgrade pip\n"
     ]
    },
    {
     "name": "stdout",
     "output_type": "stream",
     "text": [
      "Requirement already satisfied: pandas in c:\\users\\user\\appdata\\local\\programs\\python\\python313\\lib\\site-packages (2.2.3)\n",
      "Requirement already satisfied: numpy>=1.26.0 in c:\\users\\user\\appdata\\local\\programs\\python\\python313\\lib\\site-packages (from pandas) (2.1.3)\n",
      "Requirement already satisfied: python-dateutil>=2.8.2 in c:\\users\\user\\appdata\\roaming\\python\\python313\\site-packages (from pandas) (2.9.0.post0)\n",
      "Requirement already satisfied: pytz>=2020.1 in c:\\users\\user\\appdata\\local\\programs\\python\\python313\\lib\\site-packages (from pandas) (2024.2)\n",
      "Requirement already satisfied: tzdata>=2022.7 in c:\\users\\user\\appdata\\local\\programs\\python\\python313\\lib\\site-packages (from pandas) (2024.2)\n",
      "Requirement already satisfied: six>=1.5 in c:\\users\\user\\appdata\\roaming\\python\\python313\\site-packages (from python-dateutil>=2.8.2->pandas) (1.16.0)\n",
      "Note: you may need to restart the kernel to use updated packages.\n"
     ]
    },
    {
     "name": "stderr",
     "output_type": "stream",
     "text": [
      "\n",
      "[notice] A new release of pip is available: 24.2 -> 24.3.1\n",
      "[notice] To update, run: python.exe -m pip install --upgrade pip\n"
     ]
    },
    {
     "name": "stdout",
     "output_type": "stream",
     "text": [
      "Requirement already satisfied: boto3 in c:\\users\\user\\appdata\\local\\programs\\python\\python313\\lib\\site-packages (1.35.66)\n",
      "Requirement already satisfied: botocore<1.36.0,>=1.35.66 in c:\\users\\user\\appdata\\local\\programs\\python\\python313\\lib\\site-packages (from boto3) (1.35.66)\n",
      "Requirement already satisfied: jmespath<2.0.0,>=0.7.1 in c:\\users\\user\\appdata\\local\\programs\\python\\python313\\lib\\site-packages (from boto3) (1.0.1)\n",
      "Requirement already satisfied: s3transfer<0.11.0,>=0.10.0 in c:\\users\\user\\appdata\\local\\programs\\python\\python313\\lib\\site-packages (from boto3) (0.10.4)\n",
      "Requirement already satisfied: python-dateutil<3.0.0,>=2.1 in c:\\users\\user\\appdata\\roaming\\python\\python313\\site-packages (from botocore<1.36.0,>=1.35.66->boto3) (2.9.0.post0)\n",
      "Requirement already satisfied: urllib3!=2.2.0,<3,>=1.25.4 in c:\\users\\user\\appdata\\local\\programs\\python\\python313\\lib\\site-packages (from botocore<1.36.0,>=1.35.66->boto3) (2.2.3)\n",
      "Requirement already satisfied: six>=1.5 in c:\\users\\user\\appdata\\roaming\\python\\python313\\site-packages (from python-dateutil<3.0.0,>=2.1->botocore<1.36.0,>=1.35.66->boto3) (1.16.0)\n",
      "Note: you may need to restart the kernel to use updated packages.\n"
     ]
    },
    {
     "name": "stderr",
     "output_type": "stream",
     "text": [
      "\n",
      "[notice] A new release of pip is available: 24.2 -> 24.3.1\n",
      "[notice] To update, run: python.exe -m pip install --upgrade pip\n"
     ]
    },
    {
     "name": "stdout",
     "output_type": "stream",
     "text": [
      "Requirement already satisfied: matplotlib in c:\\users\\user\\appdata\\local\\programs\\python\\python313\\lib\\site-packages (3.9.2)Note: you may need to restart the kernel to use updated packages.\n",
      "\n",
      "Requirement already satisfied: contourpy>=1.0.1 in c:\\users\\user\\appdata\\local\\programs\\python\\python313\\lib\\site-packages (from matplotlib) (1.3.1)\n",
      "Requirement already satisfied: cycler>=0.10 in c:\\users\\user\\appdata\\local\\programs\\python\\python313\\lib\\site-packages (from matplotlib) (0.12.1)\n",
      "Requirement already satisfied: fonttools>=4.22.0 in c:\\users\\user\\appdata\\local\\programs\\python\\python313\\lib\\site-packages (from matplotlib) (4.55.0)\n",
      "Requirement already satisfied: kiwisolver>=1.3.1 in c:\\users\\user\\appdata\\local\\programs\\python\\python313\\lib\\site-packages (from matplotlib) (1.4.7)\n",
      "Requirement already satisfied: numpy>=1.23 in c:\\users\\user\\appdata\\local\\programs\\python\\python313\\lib\\site-packages (from matplotlib) (2.1.3)\n",
      "Requirement already satisfied: packaging>=20.0 in c:\\users\\user\\appdata\\roaming\\python\\python313\\site-packages (from matplotlib) (24.2)\n",
      "Requirement already satisfied: pillow>=8 in c:\\users\\user\\appdata\\local\\programs\\python\\python313\\lib\\site-packages (from matplotlib) (11.0.0)\n",
      "Requirement already satisfied: pyparsing>=2.3.1 in c:\\users\\user\\appdata\\local\\programs\\python\\python313\\lib\\site-packages (from matplotlib) (3.2.0)\n",
      "Requirement already satisfied: python-dateutil>=2.7 in c:\\users\\user\\appdata\\roaming\\python\\python313\\site-packages (from matplotlib) (2.9.0.post0)\n",
      "Requirement already satisfied: six>=1.5 in c:\\users\\user\\appdata\\roaming\\python\\python313\\site-packages (from python-dateutil>=2.7->matplotlib) (1.16.0)\n"
     ]
    },
    {
     "name": "stderr",
     "output_type": "stream",
     "text": [
      "\n",
      "[notice] A new release of pip is available: 24.2 -> 24.3.1\n",
      "[notice] To update, run: python.exe -m pip install --upgrade pip\n"
     ]
    },
    {
     "name": "stdout",
     "output_type": "stream",
     "text": [
      "Requirement already satisfied: python-dotenv in c:\\users\\user\\appdata\\local\\programs\\python\\python313\\lib\\site-packages (1.0.1)\n",
      "Note: you may need to restart the kernel to use updated packages.\n"
     ]
    },
    {
     "name": "stderr",
     "output_type": "stream",
     "text": [
      "\n",
      "[notice] A new release of pip is available: 24.2 -> 24.3.1\n",
      "[notice] To update, run: python.exe -m pip install --upgrade pip\n"
     ]
    },
    {
     "name": "stdout",
     "output_type": "stream",
     "text": [
      "Collecting scikit-learn\n",
      "  Downloading scikit_learn-1.5.2-cp313-cp313-win_amd64.whl.metadata (13 kB)\n",
      "Requirement already satisfied: numpy>=1.19.5 in c:\\users\\user\\appdata\\local\\programs\\python\\python313\\lib\\site-packages (from scikit-learn) (2.1.3)\n",
      "Collecting scipy>=1.6.0 (from scikit-learn)\n",
      "  Downloading scipy-1.14.1-cp313-cp313-win_amd64.whl.metadata (60 kB)\n",
      "Collecting joblib>=1.2.0 (from scikit-learn)\n",
      "  Downloading joblib-1.4.2-py3-none-any.whl.metadata (5.4 kB)\n",
      "Collecting threadpoolctl>=3.1.0 (from scikit-learn)\n",
      "  Downloading threadpoolctl-3.5.0-py3-none-any.whl.metadata (13 kB)\n",
      "Downloading scikit_learn-1.5.2-cp313-cp313-win_amd64.whl (11.0 MB)\n",
      "   ---------------------------------------- 0.0/11.0 MB ? eta -:--:--\n",
      "   --------- ------------------------------ 2.6/11.0 MB 17.1 MB/s eta 0:00:01\n",
      "   ---------------- ----------------------- 4.5/11.0 MB 13.5 MB/s eta 0:00:01\n",
      "   ----------------------- ---------------- 6.6/11.0 MB 13.6 MB/s eta 0:00:01\n",
      "   -------------------------------------- - 10.5/11.0 MB 13.4 MB/s eta 0:00:01\n",
      "   ---------------------------------------- 11.0/11.0 MB 12.9 MB/s eta 0:00:00\n",
      "Downloading joblib-1.4.2-py3-none-any.whl (301 kB)\n",
      "Downloading scipy-1.14.1-cp313-cp313-win_amd64.whl (44.5 MB)\n",
      "   ---------------------------------------- 0.0/44.5 MB ? eta -:--:--\n",
      "   --- ------------------------------------ 3.4/44.5 MB 16.7 MB/s eta 0:00:03\n",
      "   ----- ---------------------------------- 5.8/44.5 MB 13.8 MB/s eta 0:00:03\n",
      "   ------- -------------------------------- 8.1/44.5 MB 13.3 MB/s eta 0:00:03\n",
      "   --------- ------------------------------ 10.7/44.5 MB 13.1 MB/s eta 0:00:03\n",
      "   ------------ --------------------------- 13.6/44.5 MB 13.1 MB/s eta 0:00:03\n",
      "   -------------- ------------------------- 16.3/44.5 MB 13.1 MB/s eta 0:00:03\n",
      "   ---------------- ----------------------- 18.1/44.5 MB 12.5 MB/s eta 0:00:03\n",
      "   ---------------- ----------------------- 18.6/44.5 MB 11.4 MB/s eta 0:00:03\n",
      "   ----------------- ---------------------- 19.9/44.5 MB 10.5 MB/s eta 0:00:03\n",
      "   ------------------- -------------------- 21.2/44.5 MB 10.2 MB/s eta 0:00:03\n",
      "   -------------------- ------------------- 22.8/44.5 MB 9.9 MB/s eta 0:00:03\n",
      "   --------------------- ------------------ 24.4/44.5 MB 9.7 MB/s eta 0:00:03\n",
      "   ----------------------- ---------------- 26.0/44.5 MB 9.5 MB/s eta 0:00:02\n",
      "   ------------------------ --------------- 27.5/44.5 MB 9.4 MB/s eta 0:00:02\n",
      "   -------------------------- ------------- 29.1/44.5 MB 9.2 MB/s eta 0:00:02\n",
      "   --------------------------- ------------ 30.9/44.5 MB 9.2 MB/s eta 0:00:02\n",
      "   ----------------------------- ---------- 32.5/44.5 MB 9.1 MB/s eta 0:00:02\n",
      "   ------------------------------ --------- 34.1/44.5 MB 9.0 MB/s eta 0:00:02\n",
      "   -------------------------------- ------- 35.7/44.5 MB 8.9 MB/s eta 0:00:01\n",
      "   --------------------------------- ------ 37.2/44.5 MB 8.9 MB/s eta 0:00:01\n",
      "   ---------------------------------- ----- 38.8/44.5 MB 8.8 MB/s eta 0:00:01\n",
      "   ----------------------------------- ---- 39.8/44.5 MB 8.7 MB/s eta 0:00:01\n",
      "   ------------------------------------ --- 40.6/44.5 MB 8.4 MB/s eta 0:00:01\n",
      "   ------------------------------------- -- 41.4/44.5 MB 8.3 MB/s eta 0:00:01\n",
      "   ------------------------------------- -- 42.2/44.5 MB 8.1 MB/s eta 0:00:01\n",
      "   -------------------------------------- - 43.0/44.5 MB 7.9 MB/s eta 0:00:01\n",
      "   ---------------------------------------  43.5/44.5 MB 7.7 MB/s eta 0:00:01\n",
      "   ---------------------------------------  44.3/44.5 MB 7.5 MB/s eta 0:00:01\n",
      "   ---------------------------------------- 44.5/44.5 MB 7.4 MB/s eta 0:00:00\n",
      "Downloading threadpoolctl-3.5.0-py3-none-any.whl (18 kB)\n",
      "Installing collected packages: threadpoolctl, scipy, joblib, scikit-learn\n",
      "Successfully installed joblib-1.4.2 scikit-learn-1.5.2 scipy-1.14.1 threadpoolctl-3.5.0\n",
      "Note: you may need to restart the kernel to use updated packages.\n"
     ]
    },
    {
     "name": "stderr",
     "output_type": "stream",
     "text": [
      "\n",
      "[notice] A new release of pip is available: 24.2 -> 24.3.1\n",
      "[notice] To update, run: python.exe -m pip install --upgrade pip\n"
     ]
    }
   ],
   "source": [
    "%pip install plotly\n",
    "%pip install nbformat\n",
    "%pip install pandas\n",
    "%pip install boto3\n",
    "%pip install matplotlib\n",
    "%pip install python-dotenv\n",
    "%pip install scikit-learn"
   ]
  },
  {
   "cell_type": "code",
   "execution_count": 7,
   "id": "import-libraries",
   "metadata": {},
   "outputs": [],
   "source": [
    "# --- Celda 1: Importación de librerías ---\n",
    "import boto3\n",
    "import pandas as pd\n",
    "from datetime import datetime\n",
    "from sklearn.compose import ColumnTransformer\n",
    "from sklearn.preprocessing import OneHotEncoder\n",
    "from dotenv import load_dotenv\n",
    "import os\n"
   ]
  },
  {
   "cell_type": "code",
   "execution_count": 9,
   "id": "connect-to-s3",
   "metadata": {},
   "outputs": [
    {
     "name": "stdout",
     "output_type": "stream",
     "text": [
      "Error al cargar la ingesta inicial desde S3: name 'pickle' is not defined\n",
      "No se pudo cargar el DataFrame de ingesta inicial.\n"
     ]
    }
   ],
   "source": [
    "# Configurar la conexión con S3 usando variables de entorno\n",
    "load_dotenv()\n",
    "s3_client = boto3.client(\n",
    "    's3',\n",
    "    aws_access_key_id=os.getenv('Access_key_ID'),\n",
    "    aws_secret_access_key=os.getenv('Secret_access_key')\n",
    ")\n",
    "\n",
    "bucket_name = 'chicago-inspections-analytics'\n",
    "ingesta_inicial_key = 'datos_limpios/datos_limpios/datos_limpios_2024-11-13_fe3e1ed7a40a26cef96cae50369e0e13.pkl'  # Ruta del archivo en S3\n",
    "\n",
    "# Función para cargar el archivo de ingesta inicial desde S3\n",
    "def cargar_ingesta_inicial():\n",
    "    try:\n",
    "        # Descargar el archivo de S3\n",
    "        file_obj = s3_client.get_object(Bucket=bucket_name, Key=ingesta_inicial_key)\n",
    "        file_data = file_obj['Body'].read()\n",
    "        \n",
    "        # Convertir el archivo de Pickle a un DataFrame\n",
    "        df = pickle.loads(file_data)\n",
    "        print(\"Ingesta inicial cargada exitosamente.\")\n",
    "        return df\n",
    "    except Exception as e:\n",
    "        print(\"Error al cargar la ingesta inicial desde S3:\", e)\n",
    "        return None\n",
    "\n",
    "# Cargar el DataFrame de ingesta inicial\n",
    "df_inicial = cargar_ingesta_inicial()\n",
    "\n",
    "# Obtener la fecha más reciente\n",
    "if df_inicial is not None:\n",
    "    # Asegurarse de que la columna de fecha esté en el formato datetime\n",
    "    df_inicial['inspection_date'] = pd.to_datetime(df_inicial['inspection_date'], errors='coerce')\n",
    "\n",
    "    # Obtener la fecha más reciente\n",
    "    fecha_mas_reciente = df_inicial['inspection_date'].max()\n",
    "    print(\"Fecha más reciente en el DataFrame:\", fecha_mas_reciente)\n",
    "else:\n",
    "    print(\"No se pudo cargar el DataFrame de ingesta inicial.\")"
   ]
  },
  {
   "cell_type": "code",
   "execution_count": null,
   "id": "delete-inspections",
   "metadata": {},
   "outputs": [],
   "source": [
    "# --- Celda 3: Eliminación de observaciones específicas ---\n",
    "df=df_inicial\n",
    "exclude_results = ['Business Not Located', 'No Entry', 'Out of Business']\n",
    "df = df[~df['results'].isin(exclude_results)]"
   ]
  },
  {
   "cell_type": "code",
   "execution_count": null,
   "id": "transform-results",
   "metadata": {},
   "outputs": [],
   "source": [
    "# --- Celda 4: Transformación de resultados de inspección ---\n",
    "df['results'] = df['results'].replace({\n",
    "    'Pass': 'pass',\n",
    "    'Pass w/ Conditions': 'pass'\n",
    "}).apply(lambda x: 'fail' if x not in ['pass'] else x)"
   ]
  },
  {
   "cell_type": "code",
   "execution_count": null,
   "id": "transform-risk",
   "metadata": {},
   "outputs": [],
   "source": [
    "# --- Celda 5: Transformación de la variable risk ---\n",
    "df['risk'] = df['risk'].replace({\n",
    "    'Risk 1 (High)': 'high',\n",
    "    'Risk 2 (Medium)': 'medium',\n",
    "    'Risk 3 (Low)': 'low',\n",
    "    'All': 'all'\n",
    "})"
   ]
  },
  {
   "cell_type": "code",
   "execution_count": null,
   "id": "transform-facility",
   "metadata": {},
   "outputs": [],
   "source": [
    "# --- Celda 6: Transformación de la variable facility_type ---\n",
    "df['facility_type'] = df['facility_type'].replace({\n",
    "    '.*Daycare.*': 'daycare',\n",
    "    '.*Restaurant.*': 'restaurant',\n",
    "    '.*Mobile Food.*': 'mobile food'\n",
    "}, regex=True)"
   ]
  },
  {
   "cell_type": "code",
   "execution_count": null,
   "id": "transform-other",
   "metadata": {},
   "outputs": [],
   "source": [
    "# Cambiar facility_type no populares a \"other\"\n",
    "top_20 = df['facility_type'].value_counts().nlargest(20).index\n",
    "df['facility_type'] = df['facility_type'].apply(\n",
    "    lambda x: x if x in top_20 else 'other'\n",
    ")"
   ]
  },
  {
   "cell_type": "code",
   "execution_count": null,
   "id": "generate-features",
   "metadata": {},
   "outputs": [],
   "source": [
    "# --- Celda 7: Generación de características adicionales ---\n",
    "df['inspection_date'] = pd.to_datetime(df['inspection_date'])\n",
    "df['month'] = df['inspection_date'].dt.month\n",
    "df['year'] = df['inspection_date'].dt.year\n",
    "df['day_of_month'] = df['inspection_date'].dt.day\n",
    "df['week_of_year'] = df['inspection_date'].dt.isocalendar().week\n",
    "df['day_of_week'] = df['inspection_date'].dt.dayofweek\n",
    "df['week_day'] = df['day_of_week'].apply(lambda x: 1 if x < 5 else 0)\n",
    "df['weekend'] = df['day_of_week'].apply(lambda x: 1 if x >= 5 else 0)"
   ]
  },
  {
   "cell_type": "code",
   "execution_count": null,
   "id": "create-matrix",
   "metadata": {},
   "outputs": [],
   "source": [
    "# --- Celda 8: Creación de la matriz de diseño ---\n",
    "features = ['facility_type', 'risk', 'latitude', 'longitude', 'results', \n",
    "            'month', 'year', 'day_of_month', 'week_of_year', 'week_day', \n",
    "            'weekend', 'day_of_week']\n",
    "\n",
    "df_features = df[features]\n",
    "column_transformer = ColumnTransformer(transformers=[\n",
    "    ('facility_type', OneHotEncoder(), ['facility_type']),\n",
    "    ('risk', OneHotEncoder(), ['risk'])\n",
    "], remainder='passthrough')\n",
    "\n",
    "feature_matrix = column_transformer.fit_transform(df_features)\n",
    "\n",
    "# Convertir a DataFrame\n",
    "feature_matrix_df = pd.DataFrame(feature_matrix, columns=column_transformer.get_feature_names_out())"
   ]
  },
  {
   "cell_type": "code",
   "execution_count": null,
   "id": "save-matrix",
   "metadata": {},
   "outputs": [],
   "source": [
    "# --- Celda 9: Guardar la matriz de diseño en S3 ---\n",
    "today_date = datetime.today().strftime('%Y-%m-%d')\n",
    "file_name = f\"feature-matrix/feature-matrix.{today_date}.pkl\"\n",
    "\n",
    "# Guardar temporalmente el archivo en el disco local\n",
    "with open('/tmp/temp_feature_matrix.pkl', 'wb') as temp_file:\n",
    "    feature_matrix_df.to_pickle(temp_file)\n",
    "    s3_client.upload_file('/tmp/temp_feature_matrix.pkl', bucket_name, file_name)\n",
    "\n",
    "print(\"Matriz de diseño creada y guardada exitosamente.\")"
   ]
  }
 ],
 "metadata": {
  "kernelspec": {
   "display_name": "Python 3",
   "language": "python",
   "name": "python3"
  },
  "language_info": {
   "codemirror_mode": {
    "name": "ipython",
    "version": 3
   },
   "file_extension": ".py",
   "mimetype": "text/x-python",
   "name": "python",
   "nbconvert_exporter": "python",
   "pygments_lexer": "ipython3",
   "version": "3.13.0"
  }
 },
 "nbformat": 4,
 "nbformat_minor": 5
}
