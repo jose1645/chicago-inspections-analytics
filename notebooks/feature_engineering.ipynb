{
 "cells": [
  {
   "cell_type": "code",
   "execution_count": null,
   "id": "import-libraries",
   "metadata": {},
   "outputs": [],
   "source": [
    "# --- Celda 1: Importación de librerías ---\n",
    "import boto3\n",
    "import pandas as pd\n",
    "from datetime import datetime\n",
    "from sklearn.compose import ColumnTransformer\n",
    "from sklearn.preprocessing import OneHotEncoder"
   ]
  },
  {
   "cell_type": "code",
   "execution_count": null,
   "id": "connect-to-s3",
   "metadata": {},
   "outputs": [],
   "source": [
    "# --- Celda 2: Configuración de conexión a S3 ---\n",
    "bucket_name = 'tu-bucket-s3'\n",
    "ruta = 'ruta/al/archivo/limpio'\n",
    "\n",
    "# Conexión al cliente S3\n",
    "s3_client = boto3.client('s3')\n",
    "\n",
    "# Listar archivos en la ruta del bucket\n",
    "response = s3_client.list_objects_v2(Bucket=bucket_name, Prefix=ruta)\n",
    "files = [content['Key'] for content in response.get('Contents', [])]\n",
    "\n",
    "# Seleccionar el archivo .pkl\n",
    "pkl_file = next((file for file in files if file.endswith('.pkl')), None)\n",
    "\n",
    "if not pkl_file:\n",
    "    raise ValueError(\"No se encontró un archivo .pkl en la ruta especificada.\")\n",
    "\n",
    "# Cargar el archivo .pkl\n",
    "obj = s3_client.get_object(Bucket=bucket_name, Key=pkl_file)\n",
    "df = pd.read_pickle(obj['Body'])"
   ]
  },
  {
   "cell_type": "code",
   "execution_count": null,
   "id": "delete-inspections",
   "metadata": {},
   "outputs": [],
   "source": [
    "# --- Celda 3: Eliminación de observaciones específicas ---\n",
    "exclude_results = ['Business Not Located', 'No Entry', 'Out of Business']\n",
    "df = df[~df['results'].isin(exclude_results)]"
   ]
  },
  {
   "cell_type": "code",
   "execution_count": null,
   "id": "transform-results",
   "metadata": {},
   "outputs": [],
   "source": [
    "# --- Celda 4: Transformación de resultados de inspección ---\n",
    "df['results'] = df['results'].replace({\n",
    "    'Pass': 'pass',\n",
    "    'Pass w/ Conditions': 'pass'\n",
    "}).apply(lambda x: 'fail' if x not in ['pass'] else x)"
   ]
  },
  {
   "cell_type": "code",
   "execution_count": null,
   "id": "transform-risk",
   "metadata": {},
   "outputs": [],
   "source": [
    "# --- Celda 5: Transformación de la variable risk ---\n",
    "df['risk'] = df['risk'].replace({\n",
    "    'Risk 1 (High)': 'high',\n",
    "    'Risk 2 (Medium)': 'medium',\n",
    "    'Risk 3 (Low)': 'low',\n",
    "    'All': 'all'\n",
    "})"
   ]
  },
  {
   "cell_type": "code",
   "execution_count": null,
   "id": "transform-facility",
   "metadata": {},
   "outputs": [],
   "source": [
    "# --- Celda 6: Transformación de la variable facility_type ---\n",
    "df['facility_type'] = df['facility_type'].replace({\n",
    "    '.*Daycare.*': 'daycare',\n",
    "    '.*Restaurant.*': 'restaurant',\n",
    "    '.*Mobile Food.*': 'mobile food'\n",
    "}, regex=True)"
   ]
  },
  {
   "cell_type": "code",
   "execution_count": null,
   "id": "transform-other",
   "metadata": {},
   "outputs": [],
   "source": [
    "# Cambiar facility_type no populares a \"other\"\n",
    "top_20 = df['facility_type'].value_counts().nlargest(20).index\n",
    "df['facility_type'] = df['facility_type'].apply(\n",
    "    lambda x: x if x in top_20 else 'other'\n",
    ")"
   ]
  },
  {
   "cell_type": "code",
   "execution_count": null,
   "id": "generate-features",
   "metadata": {},
   "outputs": [],
   "source": [
    "# --- Celda 7: Generación de características adicionales ---\n",
    "df['inspection_date'] = pd.to_datetime(df['inspection_date'])\n",
    "df['month'] = df['inspection_date'].dt.month\n",
    "df['year'] = df['inspection_date'].dt.year\n",
    "df['day_of_month'] = df['inspection_date'].dt.day\n",
    "df['week_of_year'] = df['inspection_date'].dt.isocalendar().week\n",
    "df['day_of_week'] = df['inspection_date'].dt.dayofweek\n",
    "df['week_day'] = df['day_of_week'].apply(lambda x: 1 if x < 5 else 0)\n",
    "df['weekend'] = df['day_of_week'].apply(lambda x: 1 if x >= 5 else 0)"
   ]
  },
  {
   "cell_type": "code",
   "execution_count": null,
   "id": "create-matrix",
   "metadata": {},
   "outputs": [],
   "source": [
    "# --- Celda 8: Creación de la matriz de diseño ---\n",
    "features = ['facility_type', 'risk', 'latitude', 'longitude', 'results', \n",
    "            'month', 'year', 'day_of_month', 'week_of_year', 'week_day', \n",
    "            'weekend', 'day_of_week']\n",
    "\n",
    "df_features = df[features]\n",
    "column_transformer = ColumnTransformer(transformers=[\n",
    "    ('facility_type', OneHotEncoder(), ['facility_type']),\n",
    "    ('risk', OneHotEncoder(), ['risk'])\n",
    "], remainder='passthrough')\n",
    "\n",
    "feature_matrix = column_transformer.fit_transform(df_features)\n",
    "\n",
    "# Convertir a DataFrame\n",
    "feature_matrix_df = pd.DataFrame(feature_matrix, columns=column_transformer.get_feature_names_out())"
   ]
  },
  {
   "cell_type": "code",
   "execution_count": null,
   "id": "save-matrix",
   "metadata": {},
   "outputs": [],
   "source": [
    "# --- Celda 9: Guardar la matriz de diseño en S3 ---\n",
    "today_date = datetime.today().strftime('%Y-%m-%d')\n",
    "file_name = f\"feature-matrix/feature-matrix.{today_date}.pkl\"\n",
    "\n",
    "# Guardar temporalmente el archivo en el disco local\n",
    "with open('/tmp/temp_feature_matrix.pkl', 'wb') as temp_file:\n",
    "    feature_matrix_df.to_pickle(temp_file)\n",
    "    s3_client.upload_file('/tmp/temp_feature_matrix.pkl', bucket_name, file_name)\n",
    "\n",
    "print(\"Matriz de diseño creada y guardada exitosamente.\")"
   ]
  }
 ],
 "metadata": {
  "kernelspec": {
   "display_name": "Python 3",
   "language": "python",
   "name": "python3"
  },
  "language_info": {
   "codemirror_mode": {
    "name": "ipython",
    "version": 3
   },
   "file_extension": ".py",
   "mimetype": "text/x-python",
   "name": "python",
   "nbconvert_exporter": "python",
   "pygments_lexer": "ipython3",
   "version": "3.9.7"
  }
 },
 "nbformat": 4,
 "nbformat_minor": 5
}
